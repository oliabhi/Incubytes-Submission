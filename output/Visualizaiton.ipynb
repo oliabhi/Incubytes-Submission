{
 "cells": [
  {
   "cell_type": "markdown",
   "id": "365050dd-150d-4849-80f6-2d6c05a7192a",
   "metadata": {},
   "source": [
    "# Imporitng libraries"
   ]
  },
  {
   "cell_type": "code",
   "execution_count": 16,
   "id": "3ccc6259-9345-4e9e-9874-2769486e06e8",
   "metadata": {},
   "outputs": [],
   "source": [
    "import pandas as pd\n",
    "import mysql.connector as c"
   ]
  },
  {
   "cell_type": "code",
   "execution_count": 5,
   "id": "d417e463-d0c9-43a4-ab5f-b6ff6f504915",
   "metadata": {},
   "outputs": [],
   "source": [
    "connection = c.connect(host= \"localhost\",user= \"root\", database = \"IncubyteHospital\")"
   ]
  },
  {
   "cell_type": "code",
   "execution_count": 6,
   "id": "df8b4083-c106-4943-8cae-6e1543394324",
   "metadata": {},
   "outputs": [],
   "source": [
    "cursor = connection.cursor(buffered=True)"
   ]
  },
  {
   "cell_type": "code",
   "execution_count": 7,
   "id": "03ba2388-4a6c-49f4-86c5-907936578990",
   "metadata": {},
   "outputs": [],
   "source": [
    "query2 = \"select * from IncubyteHospital.PATIENTS\""
   ]
  },
  {
   "cell_type": "code",
   "execution_count": 8,
   "id": "39820117-74de-441f-b9a3-e4eca43f2424",
   "metadata": {},
   "outputs": [],
   "source": [
    "# executing cursor\n",
    "cursor.execute(query2)"
   ]
  },
  {
   "cell_type": "code",
   "execution_count": 9,
   "id": "abd9cc9f-8d2f-407f-8e48-d553a2b52ac1",
   "metadata": {},
   "outputs": [
    {
     "name": "stdout",
     "output_type": "stream",
     "text": [
      "Total Number of rows in table: 4\n"
     ]
    }
   ],
   "source": [
    "table_rows = cursor.fetchall()\n",
    "print(\"Total Number of rows in table:\", cursor.rowcount)"
   ]
  },
  {
   "cell_type": "code",
   "execution_count": 10,
   "id": "e951bea2-ab6f-4eb9-8f27-cb47b94f3422",
   "metadata": {},
   "outputs": [],
   "source": [
    "df = pd.read_sql('SELECT * FROM patients', con=connection)  # fitting into pandas dataframe\n",
    "df.set_index(['CUSTOMER_ID'], inplace=True)  # setting default index"
   ]
  },
  {
   "cell_type": "code",
   "execution_count": 11,
   "id": "fc7d76fd-dc03-4b9e-ab67-c38c90878940",
   "metadata": {},
   "outputs": [
    {
     "data": {
      "text/html": [
       "<div>\n",
       "<style scoped>\n",
       "    .dataframe tbody tr th:only-of-type {\n",
       "        vertical-align: middle;\n",
       "    }\n",
       "\n",
       "    .dataframe tbody tr th {\n",
       "        vertical-align: top;\n",
       "    }\n",
       "\n",
       "    .dataframe thead th {\n",
       "        text-align: right;\n",
       "    }\n",
       "</style>\n",
       "<table border=\"1\" class=\"dataframe\">\n",
       "  <thead>\n",
       "    <tr style=\"text-align: right;\">\n",
       "      <th></th>\n",
       "      <th>CUSTOMER_NAME</th>\n",
       "      <th>CUSTOMER_OPEN_DATE</th>\n",
       "      <th>LAST_CONSULTED_DATE</th>\n",
       "      <th>VACCINATION_TYPE</th>\n",
       "      <th>DOCTOR_CONSULTED</th>\n",
       "      <th>STATE</th>\n",
       "      <th>COUNTRY</th>\n",
       "      <th>DOB</th>\n",
       "      <th>FLAG</th>\n",
       "    </tr>\n",
       "    <tr>\n",
       "      <th>CUSTOMER_ID</th>\n",
       "      <th></th>\n",
       "      <th></th>\n",
       "      <th></th>\n",
       "      <th></th>\n",
       "      <th></th>\n",
       "      <th></th>\n",
       "      <th></th>\n",
       "      <th></th>\n",
       "      <th></th>\n",
       "    </tr>\n",
       "  </thead>\n",
       "  <tbody>\n",
       "    <tr>\n",
       "      <th>1</th>\n",
       "      <td>ABHI</td>\n",
       "      <td>2021-10-10</td>\n",
       "      <td>2021-10-10</td>\n",
       "      <td>CVS</td>\n",
       "      <td>HARI</td>\n",
       "      <td>UP</td>\n",
       "      <td>IND</td>\n",
       "      <td>1997-05-22</td>\n",
       "      <td>N</td>\n",
       "    </tr>\n",
       "    <tr>\n",
       "      <th>2</th>\n",
       "      <td>NEHA</td>\n",
       "      <td>2021-10-09</td>\n",
       "      <td>2021-10-09</td>\n",
       "      <td>CVS</td>\n",
       "      <td>HARI</td>\n",
       "      <td>SYDNE</td>\n",
       "      <td>AUS</td>\n",
       "      <td>1996-04-01</td>\n",
       "      <td>N</td>\n",
       "    </tr>\n",
       "    <tr>\n",
       "      <th>3</th>\n",
       "      <td>JAMES</td>\n",
       "      <td>2021-10-01</td>\n",
       "      <td>2021-10-01</td>\n",
       "      <td>CVS</td>\n",
       "      <td>HARI</td>\n",
       "      <td>SYDNE</td>\n",
       "      <td>AUS</td>\n",
       "      <td>1991-08-01</td>\n",
       "      <td>N</td>\n",
       "    </tr>\n",
       "    <tr>\n",
       "      <th>4</th>\n",
       "      <td>NAVIN</td>\n",
       "      <td>2021-09-01</td>\n",
       "      <td>2021-09-01</td>\n",
       "      <td>CVS</td>\n",
       "      <td>HARI</td>\n",
       "      <td>MP</td>\n",
       "      <td>IND</td>\n",
       "      <td>1967-08-01</td>\n",
       "      <td>N</td>\n",
       "    </tr>\n",
       "  </tbody>\n",
       "</table>\n",
       "</div>"
      ],
      "text/plain": [
       "            CUSTOMER_NAME CUSTOMER_OPEN_DATE LAST_CONSULTED_DATE  \\\n",
       "CUSTOMER_ID                                                        \n",
       "1                    ABHI         2021-10-10          2021-10-10   \n",
       "2                    NEHA         2021-10-09          2021-10-09   \n",
       "3                   JAMES         2021-10-01          2021-10-01   \n",
       "4                   NAVIN         2021-09-01          2021-09-01   \n",
       "\n",
       "            VACCINATION_TYPE DOCTOR_CONSULTED  STATE COUNTRY         DOB FLAG  \n",
       "CUSTOMER_ID                                                                    \n",
       "1                        CVS             HARI     UP     IND  1997-05-22    N  \n",
       "2                        CVS             HARI  SYDNE     AUS  1996-04-01    N  \n",
       "3                        CVS             HARI  SYDNE     AUS  1991-08-01    N  \n",
       "4                        CVS             HARI     MP     IND  1967-08-01    N  "
      ]
     },
     "execution_count": 11,
     "metadata": {},
     "output_type": "execute_result"
    }
   ],
   "source": [
    "df"
   ]
  },
  {
   "cell_type": "code",
   "execution_count": 12,
   "id": "f9795104-fcef-4bdf-b5ec-a40af273a95e",
   "metadata": {},
   "outputs": [
    {
     "name": "stdout",
     "output_type": "stream",
     "text": [
      "            CUSTOMER_NAME CUSTOMER_OPEN_DATE LAST_CONSULTED_DATE  \\\n",
      "CUSTOMER_ID                                                        \n",
      "1                    ABHI         2021-10-10          2021-10-10   \n",
      "4                   NAVIN         2021-09-01          2021-09-01   \n",
      "\n",
      "            VACCINATION_TYPE DOCTOR_CONSULTED STATE COUNTRY         DOB FLAG  \n",
      "CUSTOMER_ID                                                                   \n",
      "1                        CVS             HARI    UP     IND  1997-05-22    N  \n",
      "4                        CVS             HARI    MP     IND  1967-08-01    N  \n"
     ]
    }
   ],
   "source": [
    "country=\"IND\"\n",
    "def show_data(country):\n",
    "    data = df.loc[df['COUNTRY'] == country]\n",
    "    print(data)\n",
    "show_data(country)"
   ]
  },
  {
   "cell_type": "code",
   "execution_count": 13,
   "id": "2d09c44c-e82d-4c53-8b67-4b161d9c0514",
   "metadata": {},
   "outputs": [],
   "source": [
    "def get_file(country):\n",
    "    data = df.loc[df['COUNTRY'] == country]\n",
    "    file_name = str(country)\n",
    "   \n",
    "    \n",
    "    data.to_csv(country+\".csv\")\n",
    "    print(\"File has been created to the specified path\")"
   ]
  },
  {
   "cell_type": "code",
   "execution_count": 14,
   "id": "5630ca2e-4f8f-4816-a5aa-bc5e9a06d00d",
   "metadata": {},
   "outputs": [
    {
     "name": "stdout",
     "output_type": "stream",
     "text": [
      "File has been created to the specified path\n"
     ]
    }
   ],
   "source": [
    "get_file(\"AUS\")"
   ]
  },
  {
   "cell_type": "code",
   "execution_count": null,
   "id": "4bf2e7ac-3270-4ddd-b015-ddb275491a89",
   "metadata": {},
   "outputs": [],
   "source": []
  }
 ],
 "metadata": {
  "kernelspec": {
   "display_name": "Python 3",
   "language": "python",
   "name": "python3"
  },
  "language_info": {
   "codemirror_mode": {
    "name": "ipython",
    "version": 3
   },
   "file_extension": ".py",
   "mimetype": "text/x-python",
   "name": "python",
   "nbconvert_exporter": "python",
   "pygments_lexer": "ipython3",
   "version": "3.8.8"
  }
 },
 "nbformat": 4,
 "nbformat_minor": 5
}
